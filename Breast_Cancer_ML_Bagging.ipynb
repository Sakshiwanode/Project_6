{
  "nbformat": 4,
  "nbformat_minor": 0,
  "metadata": {
    "colab": {
      "provenance": []
    },
    "kernelspec": {
      "name": "python3",
      "display_name": "Python 3"
    },
    "language_info": {
      "name": "python"
    }
  },
  "cells": [
    {
      "cell_type": "code",
      "execution_count": null,
      "metadata": {
        "id": "62cFApJqseJU"
      },
      "outputs": [],
      "source": [
        "from sklearn.datasets import load_breast_cancer\n",
        "dataset=load_breast_cancer() \n",
        "x=dataset.data\n",
        "y=dataset.target\n",
        "from sklearn.model_selection import train_test_split\n",
        "xtrain,xtest,ytrain,ytest=train_test_split(x,y,test_size=0.2)\n",
        "\n"
      ]
    },
    {
      "cell_type": "code",
      "source": [
        "from sklearn.linear_model import LogisticRegression\n",
        "model=LogisticRegression()\n",
        "from sklearn.ensemble import BaggingClassifier     \n",
        "BG=BaggingClassifier(base_estimator=model,n_estimators=100,max_features=10,max_samples=100)"
      ],
      "metadata": {
        "id": "RDscqQHhsyFK"
      },
      "execution_count": null,
      "outputs": []
    },
    {
      "cell_type": "code",
      "source": [
        "# using fit for train of model\n",
        "BG.fit(xtrain,ytrain)"
      ],
      "metadata": {
        "id": "6DBCWmd-sySY"
      },
      "execution_count": null,
      "outputs": []
    },
    {
      "cell_type": "code",
      "source": [
        "ypred_test=BG.predict(xtest)\n",
        "ypred_train=BG.predict(xtrain)"
      ],
      "metadata": {
        "id": "HT6bVaKGs_7O"
      },
      "execution_count": null,
      "outputs": []
    },
    {
      "cell_type": "code",
      "source": [
        "from sklearn.metrics import accuracy_score\n",
        "print(accuracy_score(ytest,ypred_test))\n",
        "print(accuracy_score(ytrain,ypred_train))"
      ],
      "metadata": {
        "id": "begfP5L8tABK"
      },
      "execution_count": null,
      "outputs": []
    },
    {
      "cell_type": "code",
      "source": [
        "model.fit(xtrain,ytrain)\n",
        "ypred_test=model.predict(xtest)\n",
        "ypred_train=model.predict(xtrain)\n",
        "print(accuracy_score(ytest,ypred_test))\n",
        "print(accuracy_score(ytrain,ypred_train"
      ],
      "metadata": {
        "id": "PokYEvc6tAHB"
      },
      "execution_count": null,
      "outputs": []
    },
    {
      "cell_type": "code",
      "source": [
        "from sklearn.model_selection import cross_vals_score\n",
        "model=LogisticRegression()\n",
        "score=cross_vals_score(model,x,y,cv=5)\n",
        "print(score.mean())"
      ],
      "metadata": {
        "id": "FDv2qi54tKAX"
      },
      "execution_count": null,
      "outputs": []
    },
    {
      "cell_type": "code",
      "source": [],
      "metadata": {
        "id": "kFZa4ApctKG9"
      },
      "execution_count": null,
      "outputs": []
    },
    {
      "cell_type": "code",
      "source": [],
      "metadata": {
        "id": "OcTCXQtrtKMD"
      },
      "execution_count": null,
      "outputs": []
    }
  ]
}